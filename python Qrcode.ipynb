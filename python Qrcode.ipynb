{
  "cells": [
    {
      "cell_type": "markdown",
      "metadata": {
        "id": "view-in-github",
        "colab_type": "text"
      },
      "source": [
        "<a href=\"https://colab.research.google.com/github/lavyay2/exiting-projects-collection/blob/main/python%20Qrcode.ipynb\" target=\"_parent\"><img src=\"https://colab.research.google.com/assets/colab-badge.svg\" alt=\"Open In Colab\"/></a>"
      ]
    },
    {
      "cell_type": "markdown",
      "source": [
        "# **QR CODE GENETATOR IN PYTHON**"
      ],
      "metadata": {
        "id": "4nSrH8oy0Ehy"
      }
    },
    {
      "cell_type": "code",
      "source": [
        "pip install  qrcode"
      ],
      "metadata": {
        "id": "N14ECTzu19HI",
        "outputId": "e238123f-8f5d-4bf6-f3ee-cea9dc28420f",
        "colab": {
          "base_uri": "https://localhost:8080/"
        }
      },
      "execution_count": 1,
      "outputs": [
        {
          "output_type": "stream",
          "name": "stdout",
          "text": [
            "Collecting qrcode\n",
            "  Downloading qrcode-8.2-py3-none-any.whl.metadata (17 kB)\n",
            "Downloading qrcode-8.2-py3-none-any.whl (45 kB)\n",
            "\u001b[?25l   \u001b[90m━━━━━━━━━━━━━━━━━━━━━━━━━━━━━━━━━━━━━━━━\u001b[0m \u001b[32m0.0/46.0 kB\u001b[0m \u001b[31m?\u001b[0m eta \u001b[36m-:--:--\u001b[0m\r\u001b[2K   \u001b[91m━━━━━━━━━━━━━━━━━━━━━━━━━━━━━━━━━━━\u001b[0m\u001b[91m╸\u001b[0m\u001b[90m━━━━\u001b[0m \u001b[32m41.0/46.0 kB\u001b[0m \u001b[31m2.0 MB/s\u001b[0m eta \u001b[36m0:00:01\u001b[0m\r\u001b[2K   \u001b[90m━━━━━━━━━━━━━━━━━━━━━━━━━━━━━━━━━━━━━━━━\u001b[0m \u001b[32m46.0/46.0 kB\u001b[0m \u001b[31m900.6 kB/s\u001b[0m eta \u001b[36m0:00:00\u001b[0m\n",
            "\u001b[?25hInstalling collected packages: qrcode\n",
            "Successfully installed qrcode-8.2\n"
          ]
        }
      ]
    },
    {
      "cell_type": "code",
      "source": [
        "import qrcode as qr\n",
        "img= qr.make('https://www.youtube.com/results?search_query=reaalhit')\n",
        "img.save('realhit_yutube.png')\n",
        "\n"
      ],
      "metadata": {
        "id": "03oBZyU10ON_"
      },
      "execution_count": 7,
      "outputs": []
    },
    {
      "cell_type": "code",
      "source": [
        "#modification/make qecode more advance\n",
        "import qrcode as qr\n",
        "from PIL import Image\n",
        "qr_code = qr.QRCode(version=1,\n",
        "                  error_correction=qr.constants.ERROR_CORRECT_H,\n",
        "                  box_size=10,border=4)\n",
        "qr_code.add_data('https://www.youtube.com/results?search_query=reaalhit')\n",
        "qr_code.make(fit=True)\n",
        "img=qr_code.make_image(fill_color='Maroon',back_color='Black')\n",
        "img.save('realhit_yutube_advance.png')"
      ],
      "metadata": {
        "id": "G5LWH9E-sqpL"
      },
      "execution_count": 23,
      "outputs": []
    },
    {
      "cell_type": "markdown",
      "metadata": {
        "id": "074ec1ff"
      },
      "source": [
        "Here is a summary of your project:\n",
        "\n",
        "*   **Project Goal:** To generate QR codes in Python.\n",
        "*   **Libraries Used:** The `qrcode` library for generating QR codes and the `PIL` (Pillow) library for image manipulation.\n",
        "*   **Basic QR Code Generation:** The project starts with generating a simple QR code for a provided YouTube channel link using `qrcode.make()`.\n",
        "*   **Advanced QR Code Generation:** The project then explores creating more customized QR codes using `qrcode.QRCode`, allowing for control over:\n",
        "    *   Version\n",
        "    *   Error correction level\n",
        "    *   Box size\n",
        "    *   Border size\n",
        "    *   Fill color (demonstrated with 'violet')\n",
        "    *   Background color (demonstrated with 'skyblue')\n",
        "*   **Output:** The generated QR codes are saved as PNG image files.\n",
        "\n",
        "This project effectively demonstrates how to create both basic and customized QR codes for a given YouTube channel link using Python."
      ]
    }
  ],
  "metadata": {
    "colab": {
      "provenance": [],
      "include_colab_link": true
    },
    "kernelspec": {
      "display_name": "Python 3",
      "name": "python3"
    }
  },
  "nbformat": 4,
  "nbformat_minor": 0
}